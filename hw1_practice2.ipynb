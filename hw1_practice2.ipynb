{
 "cells": [
  {
   "cell_type": "code",
   "execution_count": 1,
   "id": "9433515f",
   "metadata": {},
   "outputs": [],
   "source": [
    "import numpy as np\n",
    "import torch\n",
    "import matplotlib as mp"
   ]
  },
  {
   "cell_type": "markdown",
   "id": "ff433178",
   "metadata": {},
   "source": [
    "# Problem 1"
   ]
  },
  {
   "cell_type": "code",
   "execution_count": 33,
   "id": "9242b148",
   "metadata": {},
   "outputs": [
    {
     "name": "stdout",
     "output_type": "stream",
     "text": [
      "[2.25 2.  ]\n"
     ]
    }
   ],
   "source": [
    "A = np.array([[1,2,5,1], [3,4,1,0]])\n",
    "A_mean = A.mean(axis=1)\n",
    "print(A_mean)"
   ]
  },
  {
   "cell_type": "markdown",
   "id": "aab88efd",
   "metadata": {},
   "source": [
    "# Problem 7"
   ]
  },
  {
   "cell_type": "code",
   "execution_count": null,
   "id": "b2cabdc1",
   "metadata": {},
   "outputs": [
    {
     "data": {
      "text/plain": [
       "array([[0, 1, 0, 1, 2],\n",
       "       [1, 3, 2, 1, 0],\n",
       "       [0, 0, 0, 1, 3]])"
      ]
     },
     "execution_count": 4,
     "metadata": {},
     "output_type": "execute_result"
    }
   ],
   "source": [
    "# a\n",
    "table1 = np.array([[0,1,0,1,2],\n",
    "                   [1,3,2,1,0],\n",
    "                   [0,0,0,1,3]])\n",
    "\n",
    "table2 = np.array([[157,167,130,145,170],\n",
    "                    [250,260,263,273,290],\n",
    "                    [301,120,30,100,502]])\n",
    "\n",
    "table3 = np.array([[1,1,1,1,1],\n",
    "                   [0,0,0,0,0],\n",
    "                   [0,0,0,0,0]])\n"
   ]
  },
  {
   "cell_type": "code",
   "execution_count": 8,
   "id": "dbbaccc8",
   "metadata": {},
   "outputs": [],
   "source": [
    "# b\n"
   ]
  },
  {
   "cell_type": "code",
   "execution_count": null,
   "id": "07f21bae",
   "metadata": {},
   "outputs": [
    {
     "data": {
      "text/plain": [
       "array([[[  0, 157,   1],\n",
       "        [  1, 167,   1],\n",
       "        [  0, 130,   1],\n",
       "        [  1, 145,   1],\n",
       "        [  2, 170,   1]],\n",
       "\n",
       "       [[  1, 250,   0],\n",
       "        [  3, 260,   0],\n",
       "        [  2, 263,   0],\n",
       "        [  1, 273,   0],\n",
       "        [  0, 290,   0]],\n",
       "\n",
       "       [[  0, 301,   0],\n",
       "        [  0, 120,   0],\n",
       "        [  0,  30,   0],\n",
       "        [  1, 100,   0],\n",
       "        [  3, 502,   0]]])"
      ]
     },
     "execution_count": 7,
     "metadata": {},
     "output_type": "execute_result"
    }
   ],
   "source": [
    "# c\n",
    "Y = np.stack([table1, table2, table3], axis=2)\n",
    "Y"
   ]
  },
  {
   "cell_type": "code",
   "execution_count": null,
   "id": "07fa5ff6",
   "metadata": {},
   "outputs": [],
   "source": [
    "# d\n",
    "\n",
    "Y2 = "
   ]
  },
  {
   "cell_type": "code",
   "execution_count": null,
   "id": "0e3e6dea",
   "metadata": {},
   "outputs": [],
   "source": [
    "# e\n",
    "task_e = np.transpose([Y], )"
   ]
  },
  {
   "cell_type": "code",
   "execution_count": null,
   "id": "4c36a3fd",
   "metadata": {},
   "outputs": [
    {
     "data": {
      "text/plain": [
       "array([[[  0,   1,   0,   1,   2],\n",
       "        [157, 167, 130, 145, 170],\n",
       "        [  1,   1,   1,   1,   1]],\n",
       "\n",
       "       [[  1,   3,   2,   1,   0],\n",
       "        [250, 260, 263, 273, 290],\n",
       "        [  0,   0,   0,   0,   0]],\n",
       "\n",
       "       [[  0,   0,   0,   1,   3],\n",
       "        [301, 120,  30, 100, 502],\n",
       "        [  0,   0,   0,   0,   0]]])"
      ]
     },
     "execution_count": 10,
     "metadata": {},
     "output_type": "execute_result"
    }
   ],
   "source": [
    "# f\n",
    "\n",
    "Y2 = np.stack([table1, table2, table3], axis=1)\n",
    "Y2"
   ]
  },
  {
   "cell_type": "markdown",
   "id": "4e94a952",
   "metadata": {},
   "source": [
    "# Problem 8"
   ]
  },
  {
   "cell_type": "code",
   "execution_count": 16,
   "id": "2f7cac46",
   "metadata": {},
   "outputs": [
    {
     "data": {
      "text/plain": [
       "(50, 6)"
      ]
     },
     "execution_count": 16,
     "metadata": {},
     "output_type": "execute_result"
    }
   ],
   "source": [
    "data = np.loadtxt(\"HW_1_Problem_8.csv\", delimiter=\",\", skiprows=1)\n",
    "data.shape"
   ]
  },
  {
   "cell_type": "code",
   "execution_count": 38,
   "id": "e1d4289e",
   "metadata": {},
   "outputs": [],
   "source": [
    "idx = data[:,0].argsort()\n",
    "data = data[idx]"
   ]
  },
  {
   "cell_type": "code",
   "execution_count": 41,
   "id": "322901be",
   "metadata": {},
   "outputs": [],
   "source": [
    "for i in range(10):\n",
    "    idx = data[(i*5):((i+1)*5), 1].argsort() + i*5\n",
    "    data[(i*5):((i+1)*5)] = data[idx]"
   ]
  },
  {
   "cell_type": "code",
   "execution_count": 42,
   "id": "456eae67",
   "metadata": {},
   "outputs": [
    {
     "data": {
      "text/plain": [
       "array([[  1.,   1., 330., 164.,  92., 105.],\n",
       "       [  1.,   2., 340., 170.,  99., 107.],\n",
       "       [  1.,   3., 350., 176., 106., 109.],\n",
       "       [  1.,   4., 360., 182., 113., 111.],\n",
       "       [  1.,   5., 370., 188., 120., 113.],\n",
       "       [  2.,   1., 350., 172.,  97., 108.],\n",
       "       [  2.,   2., 360., 178., 104., 110.],\n",
       "       [  2.,   3., 370., 184., 111., 112.],\n",
       "       [  2.,   4., 380., 190., 118., 114.],\n",
       "       [  2.,   5., 390., 196., 125., 116.],\n",
       "       [  3.,   1., 370., 180., 102., 111.],\n",
       "       [  3.,   2., 380., 186., 109., 113.],\n",
       "       [  3.,   3., 390., 192., 116., 115.],\n",
       "       [  3.,   4., 400., 198., 123., 117.],\n",
       "       [  3.,   5., 410., 204., 130., 119.],\n",
       "       [  4.,   1., 390., 188., 107., 114.],\n",
       "       [  4.,   2., 400., 194., 114., 116.],\n",
       "       [  4.,   3., 410., 200., 121., 118.],\n",
       "       [  4.,   4., 420., 206., 128., 120.],\n",
       "       [  4.,   5., 430., 212., 135., 122.],\n",
       "       [  5.,   1., 410., 196., 112., 117.],\n",
       "       [  5.,   2., 420., 202., 119., 119.],\n",
       "       [  5.,   3., 430., 208., 126., 121.],\n",
       "       [  5.,   4., 440., 214., 133., 123.],\n",
       "       [  5.,   5., 450., 220., 140., 125.],\n",
       "       [  6.,   1., 430., 204., 117., 120.],\n",
       "       [  6.,   2., 440., 210., 124., 122.],\n",
       "       [  6.,   3., 450., 216., 131., 124.],\n",
       "       [  6.,   4., 460., 222., 138., 126.],\n",
       "       [  6.,   5., 470., 228., 145., 128.],\n",
       "       [  7.,   1., 450., 212., 122., 123.],\n",
       "       [  7.,   2., 460., 218., 129., 125.],\n",
       "       [  7.,   3., 470., 224., 136., 127.],\n",
       "       [  7.,   4., 480., 230., 143., 129.],\n",
       "       [  7.,   5., 490., 236., 150., 131.],\n",
       "       [  8.,   1., 470., 220., 127., 126.],\n",
       "       [  8.,   2., 480., 226., 134., 128.],\n",
       "       [  8.,   3., 490., 232., 141., 130.],\n",
       "       [  8.,   4., 500., 238., 148., 132.],\n",
       "       [  8.,   5., 510., 244., 155., 134.],\n",
       "       [  9.,   1., 490., 228., 132., 129.],\n",
       "       [  9.,   2., 500., 234., 139., 131.],\n",
       "       [  9.,   3., 510., 240., 146., 133.],\n",
       "       [  9.,   4., 520., 246., 153., 135.],\n",
       "       [  9.,   5., 530., 252., 160., 137.],\n",
       "       [ 10.,   1., 510., 236., 137., 132.],\n",
       "       [ 10.,   2., 520., 242., 144., 134.],\n",
       "       [ 10.,   3., 530., 248., 151., 136.],\n",
       "       [ 10.,   4., 540., 254., 158., 138.],\n",
       "       [ 10.,   5., 550., 260., 165., 140.]])"
      ]
     },
     "execution_count": 42,
     "metadata": {},
     "output_type": "execute_result"
    }
   ],
   "source": [
    "data"
   ]
  },
  {
   "cell_type": "code",
   "execution_count": null,
   "id": "3d863048",
   "metadata": {},
   "outputs": [],
   "source": [
    "# sort 연습 부분\n",
    "\n",
    "# 파괴동작 => X.sort()\n",
    "# 비파괴동작: => np.sort(X)\n",
    "# np.argsort => 인덱스 번호!! 완전 다른 건디..."
   ]
  },
  {
   "cell_type": "code",
   "execution_count": 31,
   "id": "2a23ad87",
   "metadata": {},
   "outputs": [
    {
     "data": {
      "text/plain": [
       "array([[ 2,  5,  6],\n",
       "       [ 3,  8,  1],\n",
       "       [ 3,  8,  2],\n",
       "       [ 1, 10,  3]])"
      ]
     },
     "execution_count": 31,
     "metadata": {},
     "output_type": "execute_result"
    }
   ],
   "source": [
    "arr = np.array([\n",
    "    [1,10,3],\n",
    "    [2,5,6],\n",
    "    [3,8,1],\n",
    "    [3,8,2]\n",
    "])\n",
    "\n",
    "# 방법1\n",
    "arr[[1,2,0]]\n",
    "\n",
    "# 방법2\n",
    "idx = arr[:,1].argsort()\n",
    "arr[idx]"
   ]
  },
  {
   "cell_type": "code",
   "execution_count": null,
   "id": "4993c13a",
   "metadata": {},
   "outputs": [],
   "source": [
    "# problem 8 (2)\n",
    "\n",
    "X = np.ones([10,5,4])\n",
    "for i in range(10):\n",
    "    for j in range(5):\n",
    "        # 어느 행이 id은 i, year는 j냐?\n",
    "        X[i,j,:] = data[(i,j), 2:]"
   ]
  },
  {
   "cell_type": "code",
   "execution_count": null,
   "id": "7378c6a9",
   "metadata": {},
   "outputs": [],
   "source": [
    "Net = np.ones([10,5])\n",
    "Wealth = np.ones([10,5])\n",
    "\n",
    "for i in range(10):\n",
    "    for j in range(5):\n",
    "        Net[i,j] = X[i,j,0] - X[i,j,1] + X[i,j,2]\n",
    "        Wealth[i,j] = X[i,j,2] + X[i,j,3]\n",
    "\n",
    "Y = np.stack([Net, Wealth], axis = 2)"
   ]
  },
  {
   "cell_type": "code",
   "execution_count": null,
   "id": "e7d9f71c",
   "metadata": {},
   "outputs": [],
   "source": []
  }
 ],
 "metadata": {
  "kernelspec": {
   "display_name": "25_Statistics",
   "language": "python",
   "name": "python3"
  },
  "language_info": {
   "codemirror_mode": {
    "name": "ipython",
    "version": 3
   },
   "file_extension": ".py",
   "mimetype": "text/x-python",
   "name": "python",
   "nbconvert_exporter": "python",
   "pygments_lexer": "ipython3",
   "version": "3.13.7"
  }
 },
 "nbformat": 4,
 "nbformat_minor": 5
}
