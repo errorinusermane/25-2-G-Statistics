{
 "cells": [
  {
   "cell_type": "markdown",
   "id": "b127abb8",
   "metadata": {},
   "source": [
    "# HW 3\n",
    "## 학과: 경영학부\n",
    "## 학번: 1985084\n",
    "## 이름: 임수지\n",
    "## 영상 링크:"
   ]
  },
  {
   "cell_type": "markdown",
   "id": "0e151af4",
   "metadata": {},
   "source": [
    "### Problem 1\n",
    "\n",
    "Python은 리스트를 간결하게 생성할 수 있는 다양한 방법을 제공합니다.\n",
    "\n",
    "#### 예시\n",
    "# (1) 기본 리스트 컴프리헨션\n",
    "numbers = [x for x in range(10)]  \n",
    "# 결과: [0, 1, 2, 3, 4, 5, 6, 7, 8, 9]\n",
    "\n",
    "# (2) 조건부 리스트 컴프리헨션\n",
    "evens = [x for x in range(10) if x % 2 == 0]  \n",
    "# 결과: [0, 2, 4, 6, 8]\n",
    "\n",
    "# (3) 람다 함수와 함께 사용\n",
    "squares = [(lambda x: x**2)(x) for x in range(5)]  \n",
    "# 결과: [0, 1, 4, 9, 16]"
   ]
  },
  {
   "cell_type": "code",
   "execution_count": 1,
   "id": "b7c15038",
   "metadata": {},
   "outputs": [
    {
     "name": "stdout",
     "output_type": "stream",
     "text": [
      "짝수의 제곱 리스트: [0, 4, 16, 36, 64]\n"
     ]
    }
   ],
   "source": [
    "# (i) 0~9 사이의 짝수의 제곱 리스트 생성\n",
    "even_squares = [x**2 for x in range(10) if x % 2 == 0]\n",
    "print(\"짝수의 제곱 리스트:\", even_squares)"
   ]
  },
  {
   "cell_type": "markdown",
   "id": "a4f64ee9",
   "metadata": {},
   "source": [
    "**설명**  \n",
    "- `for x in range(10)` : 0부터 9까지 반복  \n",
    "- `if x % 2 == 0` : 짝수만 선택  \n",
    "- `x**2` : 짝수를 제곱하여 리스트에 추가  "
   ]
  },
  {
   "cell_type": "code",
   "execution_count": 2,
   "id": "4b334699",
   "metadata": {},
   "outputs": [
    {
     "name": "stdout",
     "output_type": "stream",
     "text": [
      "짝수→제곱, 홀수→음수 변환 리스트: [0, -1, 4, -3, 16, -5, 36, -7, 64, -9]\n"
     ]
    }
   ],
   "source": [
    "# (ii) 짝수면 x^2, 홀수면 -x로 구성된 리스트 생성\n",
    "mixed_list = [(lambda x: x**2 if x % 2 == 0 else -x)(x) for x in range(10)]\n",
    "print(\"짝수→제곱, 홀수→음수 변환 리스트:\", mixed_list)"
   ]
  },
  {
   "cell_type": "markdown",
   "id": "a0a69bea",
   "metadata": {},
   "source": [
    "**설명**\n",
    "- `(lambda x: x**2 if x % 2 == 0 else -x)(x)`  \n",
    "  → 람다 함수 내부에서 if–else 조건식을 적용.  \n",
    "  → 짝수면 `x**2`, 홀수면 `-x`.  \n",
    "- `for x in range(10)`  \n",
    "  → 0부터 9까지 모든 숫자에 대해 계산.\n"
   ]
  },
  {
   "cell_type": "markdown",
   "id": "1ba95c07",
   "metadata": {},
   "source": [
    "### Problem 2 (Video Record)\n",
    "\n",
    "Python의 `map()` 함수는 여러 개의 리스트를 동시에 받아,  \n",
    "각 리스트의 같은 위치에 있는 원소들을 하나의 함수로 처리할 수 있습니다.\n"
   ]
  },
  {
   "cell_type": "code",
   "execution_count": 3,
   "id": "4c5966df",
   "metadata": {},
   "outputs": [
    {
     "name": "stdout",
     "output_type": "stream",
     "text": [
      "[11, 24, 39, 56, 75]\n"
     ]
    }
   ],
   "source": [
    "# 주어진 리스트\n",
    "A = [1, 2, 3, 4, 5]\n",
    "B = [10, 20, 30, 40, 50]\n",
    "\n",
    "# (정답) map()을 이용한 한 줄 코드\n",
    "result = list(map(lambda a, b: a**2 + b, A, B))\n",
    "\n",
    "print(result)\n"
   ]
  },
  {
   "cell_type": "markdown",
   "id": "f2b61101",
   "metadata": {},
   "source": [
    "### Explanation\n",
    "\n",
    "- **`map(function, iterable)`**  \n",
    "  → iterable의 각 원소에 `function`을 적용한 결과를 반환.\n",
    "\n",
    "- **`map(function, iterable1, iterable2)`**  \n",
    "  → 두 리스트의 각 인덱스 원소를 짝지어 `function(a, b)`로 전달.\n",
    "\n",
    "- **익명 함수(lambda)**  \n",
    "  → 한 줄로 간단한 연산식을 정의할 수 있음.  \n",
    "    예: `lambda a, b: a**2 + b`\n",
    "\n",
    "- 이 코드는 완전히 반복문 없이 작동하며, `map()` 함수의 다중 iterable로 처리 가능함."
   ]
  },
  {
   "cell_type": "markdown",
   "id": "5a56b269",
   "metadata": {},
   "source": [
    "### Problem 3 (Perfect Number)\n",
    "\n",
    "**완전수(perfect number)** 란 자기 자신을 제외한 약수들의 합이  \n",
    "그 수 자신과 정확히 같은 양의 정수를 말한다.\n"
   ]
  },
  {
   "cell_type": "code",
   "execution_count": 4,
   "id": "40b25c5c",
   "metadata": {},
   "outputs": [
    {
     "name": "stdout",
     "output_type": "stream",
     "text": [
      "True\n",
      "True\n",
      "False\n",
      "False\n"
     ]
    }
   ],
   "source": [
    "# 완전수 판별 함수 정의\n",
    "def is_perfect(n):\n",
    "    \"\"\"정수 n이 완전수인지 판별하는 함수.\"\"\"\n",
    "    # 1보다 작은 수는 완전수가 아님\n",
    "    if n < 2:\n",
    "        return False\n",
    "\n",
    "    # proper divisors(자기 자신 제외 약수)의 합 구하기\n",
    "    divisor_sum = 0\n",
    "    for i in range(1, n):        # 1부터 n-1까지\n",
    "        if n % i == 0:           # i가 n의 약수이면\n",
    "            divisor_sum += i     # 약수 합에 더하기\n",
    "\n",
    "    # 약수의 합이 자기 자신과 같으면 완전수\n",
    "    return divisor_sum == n\n",
    "\n",
    "# 예시 실행\n",
    "print(is_perfect(6))    # True\n",
    "print(is_perfect(28))   # True\n",
    "print(is_perfect(12))   # False\n",
    "print(is_perfect(1))    # False\n"
   ]
  },
  {
   "cell_type": "markdown",
   "id": "b652888f",
   "metadata": {},
   "source": [
    "### Explanation\n",
    "\n",
    "| 단계 | 코드 | 설명 |\n",
    "|------|------|------|\n",
    "| (1) | `for i in range(1, n)` | 1부터 n-1까지 모든 정수를 검사 |\n",
    "| (2) | `if n % i == 0` | i가 n의 약수인지 확인 |\n",
    "| (3) | `divisor_sum += i` | 약수이면 누적 합에 더함 |\n",
    "| (4) | `return divisor_sum == n` | 약수 합이 n과 같으면 완전수(True) |\n"
   ]
  },
  {
   "cell_type": "markdown",
   "id": "a262c5f4",
   "metadata": {},
   "source": [
    "### Problem 4 (Class: Circle)\n",
    "\n",
    "Python의 클래스(class)를 이용하여 원의 **넓이**와 **둘레**를 계산하는 프로그램을 작성하시오.\n",
    "\n",
    "#### 요구사항\n",
    "- 클래스 이름: `Circle`\n",
    "- 속성(attribute): `radius`\n",
    "- 생성자: `__init__(self, radius)`\n",
    "- 메서드:\n",
    "  - `area()` → 원의 넓이 반환  \n",
    "  - `perimeter()` → 원의 둘레 반환  \n",
    "- 원주율 상수: \\(\\pi = 3.141562\\)\n"
   ]
  },
  {
   "cell_type": "code",
   "execution_count": 5,
   "id": "1f6a8f07",
   "metadata": {},
   "outputs": [
    {
     "name": "stdout",
     "output_type": "stream",
     "text": [
      "반지름: 5\n",
      "넓이: 78.53905\n",
      "둘레: 31.41562\n",
      "\n",
      "반지름: 2.5\n",
      "넓이: 19.6347625\n",
      "둘레: 15.70781\n"
     ]
    }
   ],
   "source": [
    "class Circle:\n",
    "    \"\"\"원의 반지름을 입력받아 넓이와 둘레를 계산하는 클래스\"\"\"\n",
    "\n",
    "    def __init__(self, radius):\n",
    "        \"\"\"반지름(radius)을 초기화\"\"\"\n",
    "        self.radius = radius\n",
    "        self.pi = 3.141562  # 문제에서 주어진 π 값\n",
    "\n",
    "    def area(self):\n",
    "        \"\"\"원의 넓이를 계산\"\"\"\n",
    "        return self.pi * (self.radius ** 2)\n",
    "\n",
    "    def perimeter(self):\n",
    "        \"\"\"원의 둘레(원주)를 계산\"\"\"\n",
    "        return 2 * self.pi * self.radius\n",
    "\n",
    "# 예시 실행\n",
    "c1 = Circle(5)\n",
    "print(\"반지름:\", c1.radius)\n",
    "print(\"넓이:\", c1.area())\n",
    "print(\"둘레:\", c1.perimeter())\n",
    "\n",
    "c2 = Circle(2.5)\n",
    "print(\"\\n반지름:\", c2.radius)\n",
    "print(\"넓이:\", c2.area())\n",
    "print(\"둘레:\", c2.perimeter())\n"
   ]
  },
  {
   "cell_type": "markdown",
   "id": "b6b7c8db",
   "metadata": {},
   "source": [
    "### 설명\n",
    "\n",
    "| 메서드 | 수식 | 설명 |\n",
    "|--------|------|------|\n",
    "| `area()` | \\( A = \\pi r^2 \\) | 반지름의 제곱에 π를 곱하여 넓이 계산 |\n",
    "| `perimeter()` | \\( P = 2\\pi r \\) | 반지름에 2π를 곱하여 둘레 계산 |\n",
    "\n",
    "---\n",
    "\n",
    "### 핵심 요약\n",
    "\n",
    "| 항목 | 코드 | 설명 |\n",
    "|------|------|------|\n",
    "| 클래스 이름 | `Circle` | 원을 표현하는 클래스 |\n",
    "| 속성 | `radius` | 반지름 값 저장 |\n",
    "| 생성자 | `__init__(self, radius)` | 객체 생성 시 반지름 초기화 |\n",
    "| 메서드 1 | `area()` | 원의 넓이 계산 |\n",
    "| 메서드 2 | `perimeter()` | 원의 둘레 계산 |\n",
    "| 사용 상수 | `π = 3.141562` | 문제에서 지정한 원주율 값 |\n"
   ]
  },
  {
   "cell_type": "markdown",
   "id": "7cdc03c6",
   "metadata": {},
   "source": [
    "### Problem 5 (Video Record)\n",
    "\n",
    "이전 문제의 `Circle` 클래스를 상속받아 `Cylinder` 클래스를 작성하시오.\n",
    "\n",
    "#### 요구사항\n",
    "- 클래스 이름: `Cylinder`\n",
    "- 상속: `Circle` 클래스로부터 상속받음\n",
    "- 속성: `radius`(상속), `height`(새 속성)\n",
    "- 메서드:\n",
    "  1. `top_area()` — 원기둥의 윗면 넓이 = 원의 넓이 (`Circle.area()` 사용)\n",
    "  2. `volume()` — 원기둥의 부피 = \\( \\pi r^2 h \\)\n",
    "- 원주율 상수: \\(\\pi = 3.1416\\)\n"
   ]
  },
  {
   "cell_type": "code",
   "execution_count": 6,
   "id": "a608f74a",
   "metadata": {},
   "outputs": [],
   "source": [
    "# 부모 클래스 (이전 문제의 Circle)\n",
    "class Circle:\n",
    "    def __init__(self, radius):\n",
    "        self.radius = radius\n",
    "        self.pi = 3.1416\n",
    "\n",
    "    def area(self):\n",
    "        return self.pi * (self.radius ** 2)\n",
    "\n",
    "    def perimeter(self):\n",
    "        return 2 * self.pi * self.radius\n"
   ]
  },
  {
   "cell_type": "code",
   "execution_count": 7,
   "id": "30a751d8",
   "metadata": {},
   "outputs": [],
   "source": [
    "# 자식 클래스 Cylinder (Circle로부터 상속)\n",
    "class Cylinder(Circle):\n",
    "    def __init__(self, radius, height):\n",
    "        # 부모 클래스(Circle)의 초기화 호출\n",
    "        super().__init__(radius)\n",
    "        self.height = height\n",
    "\n",
    "    def top_area(self):\n",
    "        \"\"\"윗면(원)의 넓이 계산: Circle.area() 재사용\"\"\"\n",
    "        return self.area()\n",
    "\n",
    "    def volume(self):\n",
    "        \"\"\"원기둥 부피 계산: πr²h\"\"\"\n",
    "        return self.pi * (self.radius ** 2) * self.height\n"
   ]
  },
  {
   "cell_type": "code",
   "execution_count": 8,
   "id": "718a5d91",
   "metadata": {},
   "outputs": [
    {
     "name": "stdout",
     "output_type": "stream",
     "text": [
      "반지름: 3\n",
      "높이: 5\n",
      "윗면 넓이: 28.2744\n",
      "원기둥 부피: 141.372\n"
     ]
    }
   ],
   "source": [
    "# 예시 실행\n",
    "cyl = Cylinder(3, 5)\n",
    "print(\"반지름:\", cyl.radius)\n",
    "print(\"높이:\", cyl.height)\n",
    "print(\"윗면 넓이:\", cyl.top_area())\n",
    "print(\"원기둥 부피:\", cyl.volume())\n"
   ]
  },
  {
   "cell_type": "markdown",
   "id": "71e9cac3",
   "metadata": {},
   "source": [
    "### 설명\n",
    "\n",
    "| 메서드 | 수식 | 설명 |\n",
    "|--------|------|------|\n",
    "| `top_area()` | \\( A = \\pi r^2 \\) | 원기둥 윗면의 넓이 (부모 클래스의 `area()` 호출) |\n",
    "| `volume()` | \\( V = \\pi r^2 h \\) | 원기둥의 부피 계산 |\n",
    "\n",
    "---\n",
    "\n",
    "#### 상속 개념 요약\n",
    "\n",
    "- `class Cylinder(Circle):`  \n",
    "  → `Circle` 클래스를 상속받아 `radius`, `area()` 등을 그대로 사용 가능\n",
    "\n",
    "- `super().__init__(radius)`  \n",
    "  → 부모 클래스의 생성자를 호출하여 `radius`와 `pi`를 초기화\n",
    "\n",
    "- `Cylinder`는 `Circle`의 모든 기능(`area()`, `perimeter()`)을 그대로 사용할 수 있으며,  \n",
    "  여기에 `height` 속성과 `volume()` 메서드가 추가된 확장 버전 클래스임."
   ]
  },
  {
   "cell_type": "markdown",
   "id": "ed0599a3",
   "metadata": {},
   "source": [
    "### Problem 6 (Video Record)\n",
    "\n",
    "NumPy의 1차원 배열(`ndarray`)의 일부 기능을 모방한  \n",
    "`MiniArray` 클래스를 작성하시오.\n",
    "\n",
    "#### 요구사항\n",
    "- 클래스 이름: `MiniArray`\n",
    "- 입력 데이터: 숫자 리스트\n",
    "- 속성(attribute)\n",
    "  - `self.data`: 데이터 리스트\n",
    "  - `self.size`: 데이터 길이\n",
    "- 메서드\n",
    "  1. `sum()` — 모든 원소의 합\n",
    "  2. `mean()` — 모든 원소의 평균\n",
    "  3. `add(other)` — 두 MiniArray 간 원소별 덧셈\n",
    "  4. `mul(other)` — 두 MiniArray 간 원소별 곱셈\n",
    "  5. `__repr__()` — 객체 출력 시 보기 좋은 문자열 형태로 반환\n"
   ]
  },
  {
   "cell_type": "code",
   "execution_count": 9,
   "id": "59416a76",
   "metadata": {},
   "outputs": [
    {
     "name": "stdout",
     "output_type": "stream",
     "text": [
      "a: MiniArray([1, 2, 3])\n",
      "b: MiniArray([10, 20, 30])\n",
      "a + b = [11, 22, 33]\n",
      "a * b = [10, 40, 90]\n",
      "sum(a) = 6\n",
      "mean(a) = 2.0\n"
     ]
    }
   ],
   "source": [
    "class MiniArray:\n",
    "    def __init__(self, data):\n",
    "        \"\"\"리스트 형태의 데이터를 받아 초기화\"\"\"\n",
    "        self.data = data\n",
    "        self.size = len(data)\n",
    "\n",
    "    def __repr__(self):\n",
    "        \"\"\"print()로 출력할 때의 문자열 표현\"\"\"\n",
    "        return f\"MiniArray({self.data})\"\n",
    "\n",
    "    def sum(self):\n",
    "        \"\"\"모든 원소의 합\"\"\"\n",
    "        return sum(self.data)\n",
    "\n",
    "    def mean(self):\n",
    "        \"\"\"모든 원소의 평균\"\"\"\n",
    "        return sum(self.data) / self.size\n",
    "\n",
    "    def add(self, other):\n",
    "        \"\"\"두 MiniArray의 원소별 덧셈\"\"\"\n",
    "        return [x + y for x, y in zip(self.data, other.data)]\n",
    "\n",
    "    def mul(self, other):\n",
    "        \"\"\"두 MiniArray의 원소별 곱셈\"\"\"\n",
    "        return [x * y for x, y in zip(self.data, other.data)]\n",
    "\n",
    "# 예시 실행\n",
    "a = MiniArray([1, 2, 3])\n",
    "b = MiniArray([10, 20, 30])\n",
    "\n",
    "print(\"a:\", a)\n",
    "print(\"b:\", b)\n",
    "print(\"a + b =\", a.add(b))\n",
    "print(\"a * b =\", a.mul(b))\n",
    "print(\"sum(a) =\", a.sum())\n",
    "print(\"mean(a) =\", a.mean())\n"
   ]
  },
  {
   "cell_type": "markdown",
   "id": "ff384e33",
   "metadata": {},
   "source": [
    "### Explanation\n",
    "\n",
    "| 메서드 | 내용 | 예시 결과 |\n",
    "|--------|------|-----------|\n",
    "| `__init__()` | 입력된 리스트를 저장하고 길이를 기록 | `data=[1,2,3], size=3` |\n",
    "| `__repr__()` | 객체를 출력 가능한 형태로 표현 | `\"MiniArray([1,2,3])\"` |\n",
    "| `sum()` | 원소들의 합 | `1+2+3=6` |\n",
    "| `mean()` | 원소들의 평균 | `6/3=2.0` |\n",
    "| `add(other)` | 두 배열의 각 원소를 더함 | `[1+10, 2+20, 3+30]` |\n",
    "| `mul(other)` | 두 배열의 각 원소를 곱함 | `[1*10, 2*20, 3*30]` |\n"
   ]
  },
  {
   "cell_type": "markdown",
   "id": "6cd0afc0",
   "metadata": {},
   "source": [
    "### Problem 7 (Video Record)\n",
    "\n",
    "`__call__` 메서드를 이용하면, 클래스 인스턴스를 마치 **함수처럼 호출**할 수 있다.\n",
    "\n",
    "예를 들어,  \n",
    "p = Polynomial([1, 0, 3])\n",
    "print(p(2))  # == p.__call__(2)\n",
    "\n",
    "는 내부적으로 __call__() 메서드를 자동으로 실행한다.\n",
    "\n",
    "이번 문제에서는 다항식을 표현하는 Polynomial 클래스를 구현하시오."
   ]
  },
  {
   "cell_type": "code",
   "execution_count": 15,
   "id": "960f2d7a",
   "metadata": {},
   "outputs": [
    {
     "name": "stdout",
     "output_type": "stream",
     "text": [
      "Polynomial([1, 0, 3])\n",
      "p(2) = 13\n",
      "p__call__(2) = 13\n",
      "Degree: 2\n",
      "\n",
      "q = Polynomial([0, 0, 0, 5])\n",
      "Degree of q: 3\n",
      "q(2) = 40\n",
      "q__call__(2) = 40\n"
     ]
    }
   ],
   "source": [
    "\n",
    "class Polynomial:\n",
    "    def __init__(self, coeffs):\n",
    "        \"\"\"다항식의 계수 리스트를 저장\"\"\"\n",
    "        self.coeffs = coeffs\n",
    "\n",
    "    def __repr__(self):\n",
    "        \"\"\"객체 출력 시 보기 좋은 형태로 표현\"\"\"\n",
    "        return f\"Polynomial({self.coeffs})\"\n",
    "\n",
    "    def __call__(self, x):\n",
    "        \"\"\"p(x)를 계산\"\"\"\n",
    "        result = 0\n",
    "        for i, c in enumerate(self.coeffs):\n",
    "            result += c * (x ** i)\n",
    "        return result\n",
    "\n",
    "    def degree(self):\n",
    "        \"\"\"다항식의 차수를 반환 (가장 높은 차수의 계수 인덱스)\"\"\"\n",
    "        for i in range(len(self.coeffs) - 1, -1, -1):\n",
    "            if self.coeffs[i] != 0:\n",
    "                return i\n",
    "        return 0  # 전부 0이면 차수는 0\n",
    "\n",
    "# 예시 실행\n",
    "p = Polynomial([1, 0, 3])  # p(x) = 1 + 0*x + 3*x^2\n",
    "print(p)                   # Polynomial([1, 0, 3])\n",
    "print(\"p(2) =\", p(2))      # 1 + 0*2 + 3*(2**2) = 13\n",
    "print(\"p__call__(2) =\", p.__call__(2))\n",
    "print(\"Degree:\", p.degree())  # 2\n",
    "\n",
    "q = Polynomial([0, 0, 0, 5])\n",
    "print(\"\\nq =\", q)\n",
    "print(\"Degree of q:\", q.degree())  # 3\n",
    "print(\"q(2) =\", q(2))  # 5*(2**3) = 40\n",
    "print(\"q__call__(2) =\", q.__call__(2))\n"
   ]
  },
  {
   "cell_type": "markdown",
   "id": "cf87553e",
   "metadata": {},
   "source": [
    "### Explanation\n",
    "\n",
    "| 메서드 | 역할 | 예시 |\n",
    "|--------|------|------|\n",
    "| `__init__()` | 계수 리스트를 저장 | `[1, 0, 3]` |\n",
    "| `__repr__()` | 객체 출력 형식 지정 | `\"Polynomial([1, 0, 3])\"` |\n",
    "| `__call__(x)` | \\(p(x)\\) 계산 | `p(2)` → `13` |\n",
    "| `degree()` | 최고차항의 차수 반환 | `[1, 0, 3] → 2` |\n",
    "\n",
    "---\n",
    "\n",
    "#### 📘 작동 원리\n",
    "\n",
    "1. `__call__()` 메서드를 정의하면 객체를 함수처럼 호출할 수 있음  \n",
    "   → `p(2)`는 내부적으로 `p.__call__(2)` 실행과 동일\n",
    "\n",
    "2. 다항식 계산은 **반복문 + 지수 연산**으로 구현\n",
    "\n",
    "3. `degree()`는 리스트를 뒤에서부터 탐색해,  \n",
    "   마지막으로 0이 아닌 계수의 인덱스를 반환.\n"
   ]
  }
 ],
 "metadata": {
  "kernelspec": {
   "display_name": "25_Statistics",
   "language": "python",
   "name": "python3"
  },
  "language_info": {
   "codemirror_mode": {
    "name": "ipython",
    "version": 3
   },
   "file_extension": ".py",
   "mimetype": "text/x-python",
   "name": "python",
   "nbconvert_exporter": "python",
   "pygments_lexer": "ipython3",
   "version": "3.13.7"
  }
 },
 "nbformat": 4,
 "nbformat_minor": 5
}
