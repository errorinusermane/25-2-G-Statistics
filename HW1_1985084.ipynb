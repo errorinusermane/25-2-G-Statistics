{
 "cells": [
  {
   "cell_type": "markdown",
   "id": "6247dd2b",
   "metadata": {},
   "source": [
    "# HW 1\n",
    "## 학과: 경영학부\n",
    "## 학번: 1985084\n",
    "## 이름: 임수지\n",
    "\n",
    "## 1. Basic Operations"
   ]
  },
  {
   "cell_type": "markdown",
   "id": "64da5a0b",
   "metadata": {},
   "source": [
    "# Problem 1\n",
    "\n",
    "## Explanation:\n",
    "\n",
    "- `axis=1` → 평균을 행(row) 단위로 구함.  \n",
    "  - 예: 첫 번째 행 [1,2,5,1]의 평균은 2.25, 두 번째 행 [3,4,1,0]의 평균은 2.0.\n",
    "- `keepdims=True` → `(n_rows, 1)` 형태로 결과를 유지해서 broadcasting이 가능하게 만듦.\n",
    "- `matrix - row_means` → 각 행의 모든 원소에서 그 행의 평균을 빼는 연산이 한 번에 수행됨.\n",
    "- 따라서 출력은 문제에서 요구한 것처럼 각 행에서 평균이 빠진 결과가 나온다."
   ]
  },
  {
   "cell_type": "code",
   "execution_count": 38,
   "id": "344a64f2",
   "metadata": {},
   "outputs": [
    {
     "name": "stdout",
     "output_type": "stream",
     "text": [
      "[[-1.25 -0.25  2.75 -1.25]\n",
      " [ 1.    2.   -1.   -2.  ]]\n"
     ]
    }
   ],
   "source": [
    "\n",
    "import numpy as np\n",
    "\n",
    "def subtract_row_means(matrix: np.ndarray) -> np.ndarray:\n",
    "    # row-wise mean (shape: (n_rows, 1))\n",
    "    row_means = matrix.mean(axis=1, keepdims=True)\n",
    "    \n",
    "    # broadcasting to subtract each row's mean\n",
    "    return matrix - row_means\n",
    "\n",
    "\n",
    "# Sample Input\n",
    "A = np.array([[1,2,5,1], [3,4,1,0]])\n",
    "\n",
    "# Apply function\n",
    "result = subtract_row_means(A)\n",
    "print(result)"
   ]
  },
  {
   "cell_type": "markdown",
   "id": "226ef3b0",
   "metadata": {},
   "source": [
    "# Problem 2\n",
    "\n",
    "## Explanation:\n",
    "- `axis=0` → 평균을 열(column) 단위로 구함.  \n",
    "  - 각 열의 평균: [ (1+3)/2 = 2, (2+4)/2 = 3, (5+1)/2 = 3, (1+0)/2 = 0.5 ]  \n",
    "- `keepdims=True` → `(1, n_cols)` 형태로 유지하여 broadcasting 가능.  \n",
    "- `matrix - col_means` → 각 열에서 해당 열의 평균을 뺌."
   ]
  },
  {
   "cell_type": "code",
   "execution_count": 39,
   "id": "c2e76fc5",
   "metadata": {},
   "outputs": [
    {
     "name": "stdout",
     "output_type": "stream",
     "text": [
      "[[-1.  -1.   2.   0.5]\n",
      " [ 1.   1.  -2.  -0.5]]\n"
     ]
    }
   ],
   "source": [
    "import numpy as np\n",
    "\n",
    "def subtract_col_means(matrix: np.ndarray) -> np.ndarray:\n",
    "    # column-wise mean (shape: (1, n_cols))\n",
    "    col_means = matrix.mean(axis=0, keepdims=True)\n",
    "    \n",
    "    # broadcasting to subtract each column's mean\n",
    "    return matrix - col_means\n",
    "\n",
    "\n",
    "# Sample Input\n",
    "A = np.array([[1,2,5,1], [3,4,1,0]])\n",
    "\n",
    "# Apply function\n",
    "result = subtract_col_means(A)\n",
    "print(result)\n"
   ]
  },
  {
   "cell_type": "markdown",
   "id": "aad4b9f9",
   "metadata": {},
   "source": [
    "# Problem 3 https://youtu.be/l6r003mzwH0?si=zyMK19aSxTl6xOqg 영상 0:00~0:30\n",
    "\n",
    "## Explanation:\n",
    "- `np.concatenate((A, B), axis=1)` → 두 배열을 **열(column) 방향으로** 이어 붙임.  \n",
    "- `axis=0`이면 위아래로 붙고, `axis=1`이면 좌우로 붙는다.  \n",
    "- A의 shape = (2, 2), B의 shape = (2, 1).  \n",
    "- 따라서 결과 shape = (2, 3). "
   ]
  },
  {
   "cell_type": "code",
   "execution_count": 40,
   "id": "2cbd6e17",
   "metadata": {},
   "outputs": [
    {
     "name": "stdout",
     "output_type": "stream",
     "text": [
      "[[4.5 3.5 1. ]\n",
      " [5.1 2.3 2. ]]\n"
     ]
    }
   ],
   "source": [
    "\n",
    "import numpy as np\n",
    "\n",
    "def concatenate_arrays(A: np.ndarray, B: np.ndarray) -> np.ndarray:\n",
    "    return np.concatenate((A, B), axis=1)\n",
    "\n",
    "\n",
    "# Sample Input\n",
    "A = np.array([[4.5, 3.5],\n",
    "              [5.1, 2.3]])\n",
    "\n",
    "B = np.array([[1],\n",
    "              [2]])\n",
    "\n",
    "# Apply function\n",
    "result = concatenate_arrays(A, B)\n",
    "print(result)\n"
   ]
  },
  {
   "cell_type": "markdown",
   "id": "eee1e2ad",
   "metadata": {},
   "source": [
    "# Problem 4\n",
    "\n",
    "## Explanation:\n",
    "- `np.concatenate((A, B), axis=0)` → 두 배열을 **행(row) 방향으로** 이어 붙임.  \n",
    "- A의 shape = (2, 2), B의 shape = (3, 2).  \n",
    "- 따라서 결과 shape = (5, 2)."
   ]
  },
  {
   "cell_type": "code",
   "execution_count": 41,
   "id": "9caa657a",
   "metadata": {},
   "outputs": [
    {
     "name": "stdout",
     "output_type": "stream",
     "text": [
      "[[4.5 3.5]\n",
      " [5.1 2.3]\n",
      " [4.  3. ]\n",
      " [5.  2. ]\n",
      " [1.  1. ]]\n"
     ]
    }
   ],
   "source": [
    "\n",
    "import numpy as np\n",
    "\n",
    "def concatenate_rowwise(A: np.ndarray, B: np.ndarray) -> np.ndarray:\n",
    "    return np.concatenate((A, B), axis=0)\n",
    "\n",
    "\n",
    "# Sample Input\n",
    "A = np.array([[4.5, 3.5],\n",
    "              [5.1, 2.3]])\n",
    "\n",
    "B = np.array([[4, 3],\n",
    "              [5, 2],\n",
    "              [1, 1]])\n",
    "\n",
    "# Apply function\n",
    "result = concatenate_rowwise(A, B)\n",
    "print(result)\n"
   ]
  },
  {
   "cell_type": "markdown",
   "id": "13d8c190",
   "metadata": {},
   "source": [
    "# Problem 5 https://youtu.be/l6r003mzwH0?si=zyMK19aSxTl6xOqg 영상 0:31~1:07\n",
    "\n",
    "## Explanation:\n",
    "- `np.zeros((rows, cols), dtype=int)` → 모든 원소가 0인 행렬 생성.\n",
    "- `mat[0, :] = 1` → 첫 번째 행을 모두 1로 설정.\n",
    "- `mat[-1, :] = 1` → 마지막 행을 모두 1로 설정.\n",
    "- `mat[:, 0] = 1` → 첫 번째 열을 모두 1로 설정.\n",
    "- `mat[:, -1] = 1` → 마지막 열을 모두 1로 설정.\n",
    "- 그 결과, **테두리는 1 / 내부는 0**인 행렬이 완성된다."
   ]
  },
  {
   "cell_type": "code",
   "execution_count": 42,
   "id": "a974ecd5",
   "metadata": {},
   "outputs": [
    {
     "name": "stdout",
     "output_type": "stream",
     "text": [
      "[[1 1 1 1 1 1 1 1 1 1]\n",
      " [1 0 0 0 0 0 0 0 0 1]\n",
      " [1 0 0 0 0 0 0 0 0 1]\n",
      " [1 0 0 0 0 0 0 0 0 1]\n",
      " [1 0 0 0 0 0 0 0 0 1]\n",
      " [1 0 0 0 0 0 0 0 0 1]\n",
      " [1 0 0 0 0 0 0 0 0 1]\n",
      " [1 0 0 0 0 0 0 0 0 1]\n",
      " [1 0 0 0 0 0 0 0 0 1]\n",
      " [1 1 1 1 1 1 1 1 1 1]]\n"
     ]
    }
   ],
   "source": [
    "\n",
    "import numpy as np\n",
    "\n",
    "def boundary_matrix(rows: int, cols: int) -> np.ndarray:\n",
    "    # Initialize all zeros\n",
    "    mat = np.zeros((rows, cols), dtype=int)\n",
    "    \n",
    "    # Fill boundary with 1\n",
    "    mat[0, :] = 1         # top row\n",
    "    mat[-1, :] = 1        # bottom row\n",
    "    mat[:, 0] = 1         # first column\n",
    "    mat[:, -1] = 1        # last column\n",
    "    \n",
    "    return mat\n",
    "\n",
    "\n",
    "# Sample Input\n",
    "result = boundary_matrix(10, 10)\n",
    "print(result)\n"
   ]
  },
  {
   "cell_type": "markdown",
   "id": "a2b3aa44",
   "metadata": {},
   "source": [
    "# Problem 6\n",
    "\n",
    "## Explanation:\n",
    "- Moving average = 평균을 일정 구간(window)마다 계산한 것.  \n",
    "- 예: \\(k=3\\), 첫 세 값 (3+5+7)/3 = 5.0, 그다음 (5+7+2)/3 = 4.67, … 이런 식으로 진행.  \n",
    "- 코드에서 `np.convolve`는 **슬라이딩 윈도우 합**을 계산하는 빠른 방법.  \n",
    "  - `np.ones(k)/k` → 길이 k인 윈도우를 만들어 평균 연산을 수행.  \n",
    "  - `mode='valid'` → 윈도우가 완전히 들어맞는 부분만 결과로 반환 → 길이는 \\(n-k+1\\).  \n",
    "- 따라서 테스트 결과는 길이가 \\(13-3+1 = 11\\)인 배열이 출력된다."
   ]
  },
  {
   "cell_type": "code",
   "execution_count": 43,
   "id": "cffb2f0a",
   "metadata": {},
   "outputs": [
    {
     "name": "stdout",
     "output_type": "stream",
     "text": [
      "[  5.           4.66666667   5.66666667   6.66666667   9.66666667\n",
      "  28.66666667  49.33333333  72.66666667  84.          93.33333333\n",
      " 116.33333333]\n"
     ]
    }
   ],
   "source": [
    "\n",
    "import numpy as np\n",
    "\n",
    "def moving_average(arr, k: int) -> np.ndarray:\n",
    "    arr = np.array(arr, dtype=float)\n",
    "    n = len(arr)\n",
    "    \n",
    "    if k <= 0 or k > n:\n",
    "        raise ValueError(\"Window size k must be > 0 and <= length of array\")\n",
    "    \n",
    "    # Use convolution for efficient computation\n",
    "    window = np.ones(k) / k\n",
    "    return np.convolve(arr, window, mode='valid')\n",
    "\n",
    "\n",
    "# Test\n",
    "arr = [3, 5, 7, 2, 8, 10, 11, 65, 72, 81, 99, 100, 150]\n",
    "k = 3\n",
    "result = moving_average(arr, k)\n",
    "print(result)\n"
   ]
  },
  {
   "cell_type": "markdown",
   "id": "fba63580",
   "metadata": {},
   "source": [
    "# Problem 7 https://youtu.be/l6r003mzwH0?si=zyMK19aSxTl6xOqg 영상 1:08~2:47\n",
    "\n",
    "## Explanation:\n",
    "1. `N`, `Salary`, `Sports` 배열을 각각 [3,5] 크기로 만든다.  \n",
    "2. 세 배열을 합쳐 [3,5,3] 형태의 `Y` 배열을 만든다. (사고 횟수, 급여, 스포츠카 정보 포함)  \n",
    "3. (2)를 `N`, `Salary`, `Sports`를 이용해 다시 푼다.  \n",
    "4. [3,3,5] 형태의 `Y2` 배열을 만든다.  \n",
    "5. `np.transpose` 또는 `np.swapaxes`를 이용해 `Y`를 `Y2`로 변환한다.  \n",
    "6. (4)를 `N`, `Salary`, `Sports`를 직접 이용해 다시 푼다.  "
   ]
  },
  {
   "cell_type": "code",
   "execution_count": 44,
   "id": "3287ca1b",
   "metadata": {},
   "outputs": [
    {
     "name": "stdout",
     "output_type": "stream",
     "text": [
      "N:\n",
      " [[0 1 0 1 2]\n",
      " [1 3 2 1 0]\n",
      " [0 0 0 1 3]]\n",
      "Salary:\n",
      " [[157 167 130 145 170]\n",
      " [250 260 263 273 290]\n",
      " [301 120  30 100 502]]\n",
      "Sports:\n",
      " [[1 1 1 1 1]\n",
      " [0 0 0 0 0]\n",
      " [0 0 0 0 0]]\n"
     ]
    }
   ],
   "source": [
    "import numpy as np\n",
    "\n",
    "# (a) Explicit arrays\n",
    "N = np.array([[0, 1, 0, 1, 2],\n",
    "              [1, 3, 2, 1, 0],\n",
    "              [0, 0, 0, 1, 3]])\n",
    "\n",
    "Salary = np.array([[157, 167, 130, 145, 170],\n",
    "                   [250, 260, 263, 273, 290],\n",
    "                   [301, 120,  30, 100, 502]])\n",
    "\n",
    "Sports = np.array([[1, 1, 1, 1, 1],\n",
    "                   [0, 0, 0, 0, 0],\n",
    "                   [0, 0, 0, 0, 0]])\n",
    "\n",
    "print(\"N:\\n\", N)\n",
    "print(\"Salary:\\n\", Salary)\n",
    "print(\"Sports:\\n\", Sports)\n"
   ]
  },
  {
   "cell_type": "code",
   "execution_count": 45,
   "id": "2aa29ffe",
   "metadata": {},
   "outputs": [
    {
     "name": "stdout",
     "output_type": "stream",
     "text": [
      "Y shape: (3, 5, 3)\n"
     ]
    }
   ],
   "source": [
    "# (b) Explicit definition of Y [3,5,3]\n",
    "Y = np.array([\n",
    "    [[0, 157, 1],\n",
    "     [1, 167, 1],\n",
    "     [0, 130, 1],\n",
    "     [1, 145, 1],\n",
    "     [2, 170, 1]],\n",
    "    \n",
    "    [[1, 250, 0],\n",
    "     [3, 260, 0],\n",
    "     [2, 263, 0],\n",
    "     [1, 273, 0],\n",
    "     [0, 290, 0]],\n",
    "    \n",
    "    [[0, 301, 0],\n",
    "     [0, 120, 0],\n",
    "     [0,  30, 0],\n",
    "     [1, 100, 0],\n",
    "     [3, 502, 0]]\n",
    "])\n",
    "print(\"Y shape:\", Y.shape)\n"
   ]
  },
  {
   "cell_type": "code",
   "execution_count": 46,
   "id": "089240b0",
   "metadata": {},
   "outputs": [
    {
     "name": "stdout",
     "output_type": "stream",
     "text": [
      "Y_alt shape: (3, 5, 3)\n"
     ]
    }
   ],
   "source": [
    "# (c) Build Y from N, Salary, Sports\n",
    "Y_alt = np.stack((N, Salary, Sports), axis=2)\n",
    "print(\"Y_alt shape:\", Y_alt.shape)\n"
   ]
  },
  {
   "cell_type": "code",
   "execution_count": 47,
   "id": "35a3eb97",
   "metadata": {},
   "outputs": [
    {
     "name": "stdout",
     "output_type": "stream",
     "text": [
      "Y2 shape: (3, 3, 5)\n"
     ]
    }
   ],
   "source": [
    "# (d) Explicit definition of Y2 [3,3,5]\n",
    "Y2 = np.array([\n",
    "    [[0, 1, 0, 1, 2],\n",
    "     [157, 167, 130, 145, 170],\n",
    "     [1, 1, 1, 1, 1]],\n",
    "    \n",
    "    [[1, 3, 2, 1, 0],\n",
    "     [250, 260, 263, 273, 290],\n",
    "     [0, 0, 0, 0, 0]],\n",
    "    \n",
    "    [[0, 0, 0, 1, 3],\n",
    "     [301, 120,  30, 100, 502],\n",
    "     [0, 0, 0, 0, 0]]\n",
    "])\n",
    "print(\"Y2 shape:\", Y2.shape)\n"
   ]
  },
  {
   "cell_type": "code",
   "execution_count": 48,
   "id": "f661b75f",
   "metadata": {},
   "outputs": [
    {
     "name": "stdout",
     "output_type": "stream",
     "text": [
      "Y2_from_Y shape: (3, 3, 5)\n"
     ]
    }
   ],
   "source": [
    "# (e) Convert Y -> Y2 via transpose\n",
    "Y2_from_Y = np.transpose(Y, (0, 2, 1))   # swap axes: (3,5,3) -> (3,3,5)\n",
    "print(\"Y2_from_Y shape:\", Y2_from_Y.shape)\n"
   ]
  },
  {
   "cell_type": "code",
   "execution_count": 49,
   "id": "7b63872c",
   "metadata": {},
   "outputs": [
    {
     "name": "stdout",
     "output_type": "stream",
     "text": [
      "Y2_alt shape: (3, 3, 5)\n"
     ]
    }
   ],
   "source": [
    "# (f) Build Y2 directly from N, Salary, Sports\n",
    "Y2_alt = np.stack((N, Salary, Sports), axis=1)\n",
    "print(\"Y2_alt shape:\", Y2_alt.shape)\n"
   ]
  },
  {
   "cell_type": "markdown",
   "id": "278ec9be",
   "metadata": {},
   "source": [
    "# Problem 8 https://youtu.be/l6r003mzwH0?si=zyMK19aSxTl6xOqg 영상 2:48~5:36\n",
    "\n",
    "## Explanation:\n",
    "- **(1)** `argsort()`로 ID, Year 기준 정렬 → `reshape()` 없이 인덱싱으로 `(10,5,4)` 배열 **X** 생성.  \n",
    "- **(2)** `for` 반복문으로 `Net`과 `Wealth`를 계산 → `np.zeros()`로 배열 초기화 후 값 채움.  \n",
    "- **(3)** `np.zeros()`로 `(50,4)` 배열 초기화 → 반복문에서 ID, Year, Net, Wealth 대입 → 필요 시 `np.savetxt()`로 CSV 저장.  \n",
    "- **(4)** `np.array()`로 가중치 행렬 **W** 정의 → `@` (행렬 곱 연산자) 또는 `np.matmul()`로 `(10,5,2)` 배열 **Y** 계산.  \n"
   ]
  },
  {
   "cell_type": "code",
   "execution_count": 50,
   "id": "68bb4593",
   "metadata": {},
   "outputs": [
    {
     "data": {
      "text/plain": [
       "(50, 6)"
      ]
     },
     "execution_count": 50,
     "metadata": {},
     "output_type": "execute_result"
    }
   ],
   "source": [
    "import numpy as np\n",
    "\n",
    "data = np.loadtxt(\"hw_1_problem_8.csv\", delimiter=\",\", skiprows=1)\n",
    "data.shape\n"
   ]
  },
  {
   "cell_type": "code",
   "execution_count": 51,
   "id": "fdad6cef",
   "metadata": {},
   "outputs": [
    {
     "name": "stdout",
     "output_type": "stream",
     "text": [
      "X shape: (10, 5, 4)\n",
      "X[0,0,:] = [330. 164.  92. 105.]\n"
     ]
    }
   ],
   "source": [
    "# (1)\n",
    "import numpy as np\n",
    "\n",
    "# data: shape (50, 6), columns = [ID, Year, Income, Loss, Stock, House]\n",
    "\n",
    "# (a) ID 기준 정렬\n",
    "idx = data[:,0].argsort()   # ID 열 기준 정렬 인덱스\n",
    "data = data[idx]\n",
    "\n",
    "# (b) 각 ID 블록마다 Year 기준 정렬\n",
    "for i in range(10):   # ID가 10개니까\n",
    "    idx = data[i*5:(i+1)*5, 1].argsort() + i*5\n",
    "    data[i*5:(i+1)*5] = data[idx]\n",
    "\n",
    "# (c) X 만들기 (10, 5, 4)\n",
    "X = np.zeros((10,5,4))\n",
    "for i in range(10):\n",
    "    for j in range(5):\n",
    "        # ID=i, Year=j에 해당하는 row 선택\n",
    "        X[i,j,:] = data[i*5+j, 2:]   # Income, Loss, Stock, House만\n",
    "\n",
    "print(\"X shape:\", X.shape)  # (10, 5, 4)\n",
    "print(\"X[0,0,:] =\", X[0,0,:])  # 첫 번째 ID, 첫 번째 Year의 값\n"
   ]
  },
  {
   "cell_type": "code",
   "execution_count": 52,
   "id": "42ac70b9",
   "metadata": {},
   "outputs": [
    {
     "name": "stdout",
     "output_type": "stream",
     "text": [
      "Y shape: (10, 5, 2)\n",
      "Y[0,0,:] = [258. 197.]\n"
     ]
    }
   ],
   "source": [
    "# (2) Net, Wealth 계산\n",
    "Net = np.zeros((10,5))\n",
    "Wealth = np.zeros((10,5))\n",
    "\n",
    "for i in range(10):\n",
    "    for j in range(5):\n",
    "        Net[i,j] = X[i,j,0] - X[i,j,1] + X[i,j,2]   # Income - Loss + Stock\n",
    "        Wealth[i,j] = X[i,j,2] + X[i,j,3]           # Stock + House\n",
    "\n",
    "Y = np.zeros((10,5,2))\n",
    "Y[:,:,0] = Net\n",
    "Y[:,:,1] = Wealth\n",
    "\n",
    "print(\"Y shape:\", Y.shape)   # (10, 5, 2)\n",
    "print(\"Y[0,0,:] =\", Y[0,0,:])  # 첫 번째 ID, 첫 번째 Year의 [Net, Wealth]\n"
   ]
  },
  {
   "cell_type": "code",
   "execution_count": 53,
   "id": "408fbc1b",
   "metadata": {},
   "outputs": [
    {
     "name": "stdout",
     "output_type": "stream",
     "text": [
      "out shape: (50, 4)\n",
      "[[  1.   1. 258. 197.]\n",
      " [  1.   2. 269. 206.]\n",
      " [  1.   3. 280. 215.]\n",
      " [  1.   4. 291. 224.]\n",
      " [  1.   5. 302. 233.]]\n"
     ]
    }
   ],
   "source": [
    "# (3) Export 50x4 table\n",
    "out = np.zeros((50,4))\n",
    "\n",
    "k = 0\n",
    "for i in range(10):\n",
    "    for j in range(5):\n",
    "        out[k,0] = data[i*5+j, 0]     # ID\n",
    "        out[k,1] = data[i*5+j, 1]     # Year\n",
    "        out[k,2] = Net[i,j]           # Net asset\n",
    "        out[k,3] = Wealth[i,j]        # Wealth\n",
    "        k += 1\n",
    "\n",
    "print(\"out shape:\", out.shape)   # (50, 4)\n",
    "print(out[:5])                   # 처음 5행 확인\n",
    "\n",
    "# 파일로 저장 (옵션)\n",
    "np.savetxt(\"Hw_1_problem_8_output.csv\", out, delimiter=\",\",\n",
    "           header=\"ID,Year,NetAsset,Wealth\", comments=\"\", fmt=\"%.2f\")\n"
   ]
  },
  {
   "cell_type": "code",
   "execution_count": 54,
   "id": "3eb51c46",
   "metadata": {},
   "outputs": [
    {
     "name": "stdout",
     "output_type": "stream",
     "text": [
      "Y2 shape: (10, 5, 2)\n",
      "Y2[0,0,:] = [258. 197.]\n",
      "(2)의 값과 (4)의 값이 같은가? True\n"
     ]
    }
   ],
   "source": [
    "# (4) 행렬 곱 방식 (loop 없이)\n",
    "W = np.array([\n",
    "    [1, 0],   # Income\n",
    "    [-1, 0],  # -Loss\n",
    "    [1, 1],   # Stock\n",
    "    [0, 1]    # House\n",
    "])\n",
    "\n",
    "Y2 = X @ W   # (10,5,4) @ (4,2) -> (10,5,2)\n",
    "\n",
    "print(\"Y2 shape:\", Y2.shape)    # (10,5,2)\n",
    "print(\"Y2[0,0,:] =\", Y2[0,0,:]) # 첫 번째 ID, 첫 번째 Year 결과\n",
    "print(\"(2)의 값과 (4)의 값이 같은가?\", np.allclose(Y, Y2))\n",
    "\n"
   ]
  },
  {
   "cell_type": "markdown",
   "id": "4450d0ce",
   "metadata": {},
   "source": [
    "# Problem 9\n",
    "\n",
    "## Explanation:\n",
    "- **(a)** `np.nanmean`, `np.nanstd`를 사용해 NaN을 무시하고 행별 평균과 표준편차를 계산한다.  \n",
    "  - 예: 두 번째 행 = [3.0, NaN, 2.5, 2.0] → 평균 = (3.0+2.5+2.0)/3 = 2.5,  \n",
    "    표준편차 = √((0.5² + 0.0² + (−0.5)²)/3) ≈ 0.408.  \n",
    "- **(b)** 각 행을 표준화하면 평균 0, 표준편차 1이 되며 NaN은 무시된다.  \n",
    "- **(d)** `σ*M_norm + μ`로 복원하면 원래의 `M` 값이 나온다 (NaN이 아닌 항목에 대해 동일).  \n",
    "  - Boolean mask를 사용해 NaN을 제외하고 비교한다.  \n",
    "  - 결과는 `True`가 되어야 한다.  "
   ]
  },
  {
   "cell_type": "code",
   "execution_count": 55,
   "id": "8a0459c0",
   "metadata": {},
   "outputs": [
    {
     "name": "stdout",
     "output_type": "stream",
     "text": [
      "M:\n",
      " [[500.  520.  540.  560. ]\n",
      " [  3.    nan   2.5   2. ]\n",
      " [ 50.   52.   55.   57. ]\n",
      " [ 90.  100.  100.  110. ]]\n",
      "Row means: [530.    2.5  53.5 100. ]\n",
      "Row std devs: [22.36067977  0.40824829  2.6925824   7.07106781]\n"
     ]
    }
   ],
   "source": [
    "import numpy as np\n",
    "\n",
    "# Original matrix with NaN\n",
    "M = np.array([[500, 520, 540, 560],\n",
    "              [3.0, np.nan, 2.5, 2.0],\n",
    "              [50, 52, 55, 57],\n",
    "              [90, 100, 100, 110]], dtype=float)\n",
    "\n",
    "print(\"M:\\n\", M)\n",
    "\n",
    "# (a) Mean and std dev per row (ignore NaN)\n",
    "mu = np.nanmean(M, axis=1)   # shape (4,)\n",
    "sigma = np.nanstd(M, axis=1, ddof=0)  # population std\n",
    "\n",
    "print(\"Row means:\", mu)\n",
    "print(\"Row std devs:\", sigma)\n"
   ]
  },
  {
   "cell_type": "code",
   "execution_count": 56,
   "id": "70c10302",
   "metadata": {},
   "outputs": [
    {
     "name": "stdout",
     "output_type": "stream",
     "text": [
      "M_norm:\n",
      " [[-1.34164079 -0.4472136   0.4472136   1.34164079]\n",
      " [ 1.22474487         nan  0.         -1.22474487]\n",
      " [-1.29986737 -0.55708601  0.55708601  1.29986737]\n",
      " [-1.41421356  0.          0.          1.41421356]]\n"
     ]
    }
   ],
   "source": [
    "# (b) Row-standardized matrix\n",
    "M_norm = (M - mu[:, None]) / sigma[:, None]\n",
    "print(\"M_norm:\\n\", M_norm)\n"
   ]
  },
  {
   "cell_type": "code",
   "execution_count": 57,
   "id": "0eb480f2",
   "metadata": {},
   "outputs": [
    {
     "name": "stdout",
     "output_type": "stream",
     "text": [
      "M_rec:\n",
      " [[500.  520.  540.  560. ]\n",
      " [  3.    nan   2.5   2. ]\n",
      " [ 50.   52.   55.   57. ]\n",
      " [ 90.  100.  100.  110. ]]\n",
      "Reconstruction correct? True\n"
     ]
    }
   ],
   "source": [
    "# (d) Reconstruction\n",
    "M_rec = sigma[:, None] * M_norm + mu[:, None]\n",
    "\n",
    "print(\"M_rec:\\n\", M_rec)\n",
    "\n",
    "# Check equality (ignoring NaN)\n",
    "mask = ~np.isnan(M)\n",
    "print(\"Reconstruction correct?\", np.allclose(M_rec[mask], M[mask]))\n"
   ]
  },
  {
   "cell_type": "markdown",
   "id": "9c5f3212",
   "metadata": {},
   "source": [
    "# Problem 10 https://youtu.be/l6r003mzwH0?si=zyMK19aSxTl6xOqg 영상 5:37~6:50\n",
    "\n",
    "## Explanation:\n",
    "- (a)에서는 broadcasting으로 \\(c\\)를 각 행에 더한다.  \n",
    "- (b)에서는 \"상수항(bias)\"을 열 벡터로 추가한 뒤, 가중치 행렬에 \\(c\\)를 붙여서 같은 효과를 얻는다.  \n",
    "- 두 방식은 수학적으로 동일하며, 실제 계산 결과도 일치한다."
   ]
  },
  {
   "cell_type": "code",
   "execution_count": 58,
   "id": "7a11cf2e",
   "metadata": {},
   "outputs": [
    {
     "name": "stdout",
     "output_type": "stream",
     "text": [
      "Y_hat:\n",
      " [[166.5  94.5]\n",
      " [172.5  99.5]\n",
      " [176.8 101.2]]\n",
      "Y_hat shape: (3, 2)\n"
     ]
    }
   ],
   "source": [
    "import numpy as np\n",
    "\n",
    "# Define X, W, c\n",
    "X = np.array([[160, 55, 170, 65],\n",
    "              [165, 60, 175, 70],\n",
    "              [170, 58, 180, 72]])\n",
    "\n",
    "W = np.array([[0.5, 0.1],\n",
    "              [0.2, 0.3],\n",
    "              [0.4, 0.2],\n",
    "              [0.1, 0.4]])\n",
    "\n",
    "c = np.array([1.0, 2.0])  # shape (2,)\n",
    "\n",
    "# (a) Compute Y_hat = XW + c\n",
    "Y_hat = X @ W + c\n",
    "print(\"Y_hat:\\n\", Y_hat)\n",
    "print(\"Y_hat shape:\", Y_hat.shape)\n"
   ]
  },
  {
   "cell_type": "code",
   "execution_count": 59,
   "id": "35e56f27",
   "metadata": {},
   "outputs": [
    {
     "name": "stdout",
     "output_type": "stream",
     "text": [
      "Y_hat_aug:\n",
      " [[166.5  94.5]\n",
      " [172.5  99.5]\n",
      " [176.8 101.2]]\n",
      "Matches part (a)? True\n"
     ]
    }
   ],
   "source": [
    "# (b) Augmented design trick\n",
    "ones = np.ones((X.shape[0], 1))   # column of ones, shape (3,1)\n",
    "X_a = np.hstack((ones, X))        # shape (3,5)\n",
    "\n",
    "W_a = np.vstack((c.reshape(1, -1), W))  # shape (5,2)\n",
    "\n",
    "Y_hat_aug = X_a @ W_a\n",
    "print(\"Y_hat_aug:\\n\", Y_hat_aug)\n",
    "\n",
    "# Verify equality\n",
    "print(\"Matches part (a)?\", np.allclose(Y_hat, Y_hat_aug))\n"
   ]
  }
 ],
 "metadata": {
  "kernelspec": {
   "display_name": "25_Statistics",
   "language": "python",
   "name": "python3"
  },
  "language_info": {
   "codemirror_mode": {
    "name": "ipython",
    "version": 3
   },
   "file_extension": ".py",
   "mimetype": "text/x-python",
   "name": "python",
   "nbconvert_exporter": "python",
   "pygments_lexer": "ipython3",
   "version": "3.13.7"
  }
 },
 "nbformat": 4,
 "nbformat_minor": 5
}
